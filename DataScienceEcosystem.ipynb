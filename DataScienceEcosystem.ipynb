{
 "cells": [
  {
   "cell_type": "markdown",
   "id": "64305f88-b910-40f6-b561-401d59207a86",
   "metadata": {},
   "source": [
    "# Data Science Tools and Ecosystem \n"
   ]
  },
  {
   "cell_type": "markdown",
   "id": "ca5c42ae-3106-4281-bd09-a1701fad3d82",
   "metadata": {},
   "source": [
    "In this notebook, Data Science Tools and Ecosystem are summarized."
   ]
  },
  {
   "cell_type": "markdown",
   "id": "2be67af4-54c4-4f0e-add0-a38ca0787793",
   "metadata": {},
   "source": [
    "Some of the popular languages that Data Scientists use are:\n",
    "1. Python\n",
    "2. R\n",
    "3. Julia\n",
    "4. SQL\n",
    "5. Scala\n",
    "6. Java"
   ]
  },
  {
   "cell_type": "markdown",
   "id": "a3bca729-27c7-46f3-99ce-70b86dad0949",
   "metadata": {},
   "source": [
    "Some of the commonly used libraries used by Data Scientists include:\n",
    "1. Numpy\n",
    "2. Pandas\n",
    "3. Matplotlib\n",
    "4. PyTorch\n",
    "5. tensorFlow\n",
    "6. Scikit-learn"
   ]
  },
  {
   "cell_type": "markdown",
   "id": "95e9bce9-8486-4bf6-ad43-4f6d5f9d3e07",
   "metadata": {},
   "source": [
    "| Data Science Tools|\n",
    "|-------------------|\n",
    "| Jupyter Notebook  |\n",
    "| RStudio           |\n",
    "| Watson Studio     |"
   ]
  },
  {
   "cell_type": "markdown",
   "id": "ffde5b94-06e8-4f7b-99fb-a83f8c37226a",
   "metadata": {},
   "source": [
    "### Below are a few examples of evaluating arithmetic expressions in Python"
   ]
  },
  {
   "cell_type": "code",
   "execution_count": 20,
   "id": "326da8dd-443a-4f41-a295-4ebd4fb2f9c7",
   "metadata": {},
   "outputs": [
    {
     "data": {
      "text/plain": [
       "17"
      ]
     },
     "execution_count": 20,
     "metadata": {},
     "output_type": "execute_result"
    }
   ],
   "source": [
    "# This a simple arithmetic expression to mutiply then add integers\n",
    "(3*4)+5"
   ]
  },
  {
   "cell_type": "code",
   "execution_count": 24,
   "id": "71eef801-eda2-47f0-ac83-057171c9dab3",
   "metadata": {
    "scrolled": true
   },
   "outputs": [
    {
     "data": {
      "text/plain": [
       "3.3333333333333335"
      ]
     },
     "execution_count": 24,
     "metadata": {},
     "output_type": "execute_result"
    }
   ],
   "source": [
    "# This will convert 200 minutes to hours by diving by 60\n",
    "200/60"
   ]
  },
  {
   "cell_type": "markdown",
   "id": "c0494af4-7234-40c4-98db-735d1d901242",
   "metadata": {},
   "source": [
    "**Objectives:**\n",
    "\n",
    "- Listing Popular languges in Data Science\n",
    "- Identifying commonly used libraries in Data Science.\n",
    "- Exploring development environment tools used in Data Science.\n",
    "- Performing simple arithemic operations in Python.\n",
    "- Converting Units (minutes to hours) in Python."
   ]
  },
  {
   "cell_type": "markdown",
   "id": "fad996b5-c83f-4d69-9332-989f18adb5ce",
   "metadata": {},
   "source": [
    "## Author\n",
    "Hala Belamri"
   ]
  },
  {
   "cell_type": "code",
   "execution_count": null,
   "id": "4e091516-2d9d-43dc-98f2-25c464cc5393",
   "metadata": {},
   "outputs": [],
   "source": []
  }
 ],
 "metadata": {
  "kernelspec": {
   "display_name": "Python 3 (ipykernel)",
   "language": "python",
   "name": "python3"
  },
  "language_info": {
   "codemirror_mode": {
    "name": "ipython",
    "version": 3
   },
   "file_extension": ".py",
   "mimetype": "text/x-python",
   "name": "python",
   "nbconvert_exporter": "python",
   "pygments_lexer": "ipython3",
   "version": "3.12.4"
  }
 },
 "nbformat": 4,
 "nbformat_minor": 5
}
